{
  "nbformat": 4,
  "nbformat_minor": 0,
  "metadata": {
    "colab": {
      "provenance": [],
      "toc_visible": true
    },
    "kernelspec": {
      "name": "python3",
      "display_name": "Python 3"
    },
    "language_info": {
      "name": "python"
    }
  },
  "cells": [
    {
      "cell_type": "markdown",
      "source": [
        "# Import Functions and Libraries\n"
      ],
      "metadata": {
        "id": "oskTuyhfJuU4"
      }
    },
    {
      "cell_type": "code",
      "execution_count": 1,
      "metadata": {
        "id": "POlKtQPzJGX4"
      },
      "outputs": [],
      "source": [
        "import matplotlib.pyplot as plt\n",
        "from sklearn import datasets\n",
        "import numpy as np\n",
        "from numpy import mean\n",
        "from numpy import cov\n",
        "from sklearn.decomposition import PCA\n",
        "import tensorflow\n",
        "import keras"
      ]
    },
    {
      "cell_type": "markdown",
      "source": [
        "# Load and Process the Dataset"
      ],
      "metadata": {
        "id": "EJxmOl1xJyoX"
      }
    },
    {
      "cell_type": "code",
      "source": [
        "(train_features, train_labels), (test_features, test_labels) = keras.datasets.boston_housing.load_data()\n",
        "\n",
        "# get per-feature statistics (mean, standard deviation) from the training set for feature scaling by\n",
        "train_mean = np.mean(train_features, axis=0)\n",
        "train_std = np.std(train_features, axis=0)\n",
        "train_features = (train_features - train_mean) / train_std\n",
        "test_features = (test_features - train_mean) / train_std\n",
        "print(train_features.shape)\n",
        "\n"
      ],
      "metadata": {
        "colab": {
          "base_uri": "https://localhost:8080/"
        },
        "id": "XFQvLgbXKDf9",
        "outputId": "ed470ab5-469a-4359-b079-f7ae25123eb8"
      },
      "execution_count": 8,
      "outputs": [
        {
          "output_type": "stream",
          "name": "stdout",
          "text": [
            "(404, 13)\n"
          ]
        }
      ]
    },
    {
      "cell_type": "markdown",
      "source": [
        "No, the data cannot be visualized."
      ],
      "metadata": {
        "id": "KTzZauZ7LOFq"
      }
    },
    {
      "cell_type": "markdown",
      "source": [
        "# Train Your Model"
      ],
      "metadata": {
        "id": "_bhOM2daLz6O"
      }
    },
    {
      "cell_type": "code",
      "source": [
        "pca = PCA(13)\n",
        "pca.fit(train_features)"
      ],
      "metadata": {
        "colab": {
          "base_uri": "https://localhost:8080/",
          "height": 75
        },
        "id": "mpbJtUYcLUME",
        "outputId": "0df1ca8c-b556-4b90-85a7-3cd87d497a17"
      },
      "execution_count": null,
      "outputs": [
        {
          "output_type": "execute_result",
          "data": {
            "text/plain": [
              "PCA(n_components=13)"
            ],
            "text/html": [
              "<style>#sk-container-id-1 {color: black;background-color: white;}#sk-container-id-1 pre{padding: 0;}#sk-container-id-1 div.sk-toggleable {background-color: white;}#sk-container-id-1 label.sk-toggleable__label {cursor: pointer;display: block;width: 100%;margin-bottom: 0;padding: 0.3em;box-sizing: border-box;text-align: center;}#sk-container-id-1 label.sk-toggleable__label-arrow:before {content: \"▸\";float: left;margin-right: 0.25em;color: #696969;}#sk-container-id-1 label.sk-toggleable__label-arrow:hover:before {color: black;}#sk-container-id-1 div.sk-estimator:hover label.sk-toggleable__label-arrow:before {color: black;}#sk-container-id-1 div.sk-toggleable__content {max-height: 0;max-width: 0;overflow: hidden;text-align: left;background-color: #f0f8ff;}#sk-container-id-1 div.sk-toggleable__content pre {margin: 0.2em;color: black;border-radius: 0.25em;background-color: #f0f8ff;}#sk-container-id-1 input.sk-toggleable__control:checked~div.sk-toggleable__content {max-height: 200px;max-width: 100%;overflow: auto;}#sk-container-id-1 input.sk-toggleable__control:checked~label.sk-toggleable__label-arrow:before {content: \"▾\";}#sk-container-id-1 div.sk-estimator input.sk-toggleable__control:checked~label.sk-toggleable__label {background-color: #d4ebff;}#sk-container-id-1 div.sk-label input.sk-toggleable__control:checked~label.sk-toggleable__label {background-color: #d4ebff;}#sk-container-id-1 input.sk-hidden--visually {border: 0;clip: rect(1px 1px 1px 1px);clip: rect(1px, 1px, 1px, 1px);height: 1px;margin: -1px;overflow: hidden;padding: 0;position: absolute;width: 1px;}#sk-container-id-1 div.sk-estimator {font-family: monospace;background-color: #f0f8ff;border: 1px dotted black;border-radius: 0.25em;box-sizing: border-box;margin-bottom: 0.5em;}#sk-container-id-1 div.sk-estimator:hover {background-color: #d4ebff;}#sk-container-id-1 div.sk-parallel-item::after {content: \"\";width: 100%;border-bottom: 1px solid gray;flex-grow: 1;}#sk-container-id-1 div.sk-label:hover label.sk-toggleable__label {background-color: #d4ebff;}#sk-container-id-1 div.sk-serial::before {content: \"\";position: absolute;border-left: 1px solid gray;box-sizing: border-box;top: 0;bottom: 0;left: 50%;z-index: 0;}#sk-container-id-1 div.sk-serial {display: flex;flex-direction: column;align-items: center;background-color: white;padding-right: 0.2em;padding-left: 0.2em;position: relative;}#sk-container-id-1 div.sk-item {position: relative;z-index: 1;}#sk-container-id-1 div.sk-parallel {display: flex;align-items: stretch;justify-content: center;background-color: white;position: relative;}#sk-container-id-1 div.sk-item::before, #sk-container-id-1 div.sk-parallel-item::before {content: \"\";position: absolute;border-left: 1px solid gray;box-sizing: border-box;top: 0;bottom: 0;left: 50%;z-index: -1;}#sk-container-id-1 div.sk-parallel-item {display: flex;flex-direction: column;z-index: 1;position: relative;background-color: white;}#sk-container-id-1 div.sk-parallel-item:first-child::after {align-self: flex-end;width: 50%;}#sk-container-id-1 div.sk-parallel-item:last-child::after {align-self: flex-start;width: 50%;}#sk-container-id-1 div.sk-parallel-item:only-child::after {width: 0;}#sk-container-id-1 div.sk-dashed-wrapped {border: 1px dashed gray;margin: 0 0.4em 0.5em 0.4em;box-sizing: border-box;padding-bottom: 0.4em;background-color: white;}#sk-container-id-1 div.sk-label label {font-family: monospace;font-weight: bold;display: inline-block;line-height: 1.2em;}#sk-container-id-1 div.sk-label-container {text-align: center;}#sk-container-id-1 div.sk-container {/* jupyter's `normalize.less` sets `[hidden] { display: none; }` but bootstrap.min.css set `[hidden] { display: none !important; }` so we also need the `!important` here to be able to override the default hidden behavior on the sphinx rendered scikit-learn.org. See: https://github.com/scikit-learn/scikit-learn/issues/21755 */display: inline-block !important;position: relative;}#sk-container-id-1 div.sk-text-repr-fallback {display: none;}</style><div id=\"sk-container-id-1\" class=\"sk-top-container\"><div class=\"sk-text-repr-fallback\"><pre>PCA(n_components=13)</pre><b>In a Jupyter environment, please rerun this cell to show the HTML representation or trust the notebook. <br />On GitHub, the HTML representation is unable to render, please try loading this page with nbviewer.org.</b></div><div class=\"sk-container\" hidden><div class=\"sk-item\"><div class=\"sk-estimator sk-toggleable\"><input class=\"sk-toggleable__control sk-hidden--visually\" id=\"sk-estimator-id-1\" type=\"checkbox\" checked><label for=\"sk-estimator-id-1\" class=\"sk-toggleable__label sk-toggleable__label-arrow\">PCA</label><div class=\"sk-toggleable__content\"><pre>PCA(n_components=13)</pre></div></div></div></div></div>"
            ]
          },
          "metadata": {},
          "execution_count": 11
        }
      ]
    },
    {
      "cell_type": "code",
      "source": [
        "print(pca.components_.T)\n",
        "print(pca.explained_variance_ratio_)"
      ],
      "metadata": {
        "colab": {
          "base_uri": "https://localhost:8080/"
        },
        "id": "KdxQ7NIFLzUj",
        "outputId": "73f005f3-c154-43f7-a13d-c1a6eae6e549"
      },
      "execution_count": null,
      "outputs": [
        {
          "output_type": "stream",
          "name": "stdout",
          "text": [
            "[[ 2.43546091e-01  3.59795533e-01  1.70396108e-01  1.03609639e-01\n",
            "   1.90741099e-02  2.82725213e-01  7.72838146e-01  1.49780216e-01\n",
            "   2.30943475e-01  1.56212765e-02  1.06346510e-01 -7.32848389e-02\n",
            "   3.45433596e-02]\n",
            " [-2.55009908e-01  3.74697003e-01  2.38617866e-01  2.36086543e-01\n",
            "  -1.95256524e-01  3.13436052e-01 -2.80848064e-01 -4.44464105e-01\n",
            "   3.66556588e-01  2.65041137e-01 -2.41478637e-01 -6.74817972e-03\n",
            "  -7.83422675e-02]\n",
            " [ 3.46105148e-01 -1.18320621e-01  1.35363943e-02 -1.87437943e-02\n",
            "  -1.59832215e-02  6.70969138e-02 -2.99340095e-01  1.20605224e-01\n",
            "   6.54927304e-01 -3.99302331e-01  2.85680908e-01  2.19371078e-01\n",
            "  -1.96621325e-01]\n",
            " [ 5.23077703e-03 -3.97343861e-01  3.39876075e-01  7.52551278e-01\n",
            "   3.85064597e-01 -9.47395457e-02  3.73010901e-02 -1.81468555e-02\n",
            "  -4.46561939e-03  2.19035625e-03 -1.01149491e-02 -5.35585615e-04\n",
            "   3.38079797e-02]\n",
            " [ 3.43794154e-01 -1.79992850e-01  1.83420432e-01 -5.64416064e-02\n",
            "  -1.93466416e-01  1.01880108e-01 -2.03028128e-01  1.05893350e-01\n",
            "   1.50906712e-02  1.70190585e-01  4.47763304e-02 -8.25296859e-01\n",
            "   4.94176905e-03]\n",
            " [-1.97642481e-01 -4.48991561e-03  5.83844789e-01 -4.40508615e-01\n",
            "   2.93010940e-01 -1.03249188e-01  8.25510741e-02 -3.27138763e-01\n",
            "  -2.25921602e-03 -4.35419766e-01 -7.96327133e-03 -1.55188279e-01\n",
            "   4.36138116e-02]\n",
            " [ 3.13967613e-01 -3.06820010e-01  7.64188760e-02 -1.80365742e-01\n",
            "  -4.89741240e-02  5.04346654e-02  1.28915783e-01 -5.53012639e-01\n",
            "  -9.17290823e-02  4.37362636e-01  4.17551450e-01  2.52872800e-01\n",
            "  -5.94611521e-02]\n",
            " [-3.24368647e-01  3.15120698e-01 -1.37402037e-01  2.34838078e-01\n",
            "   8.99935893e-03 -4.46410181e-02 -9.32268276e-02 -8.95380164e-02\n",
            "  -1.44793208e-01 -1.45087682e-01  7.75991448e-01 -2.37364613e-01\n",
            "  -4.64045476e-02]\n",
            " [ 3.20681416e-01  3.31414567e-01  1.86985900e-01  1.59044364e-02\n",
            "   2.48673839e-01  1.32529469e-01 -1.97355865e-01  1.07464264e-01\n",
            "  -4.31034433e-01  3.50034210e-03 -6.44437528e-02  1.07641902e-01\n",
            "  -6.48589070e-01]\n",
            " [ 3.36107175e-01  2.93582746e-01  1.53516546e-01  1.12075120e-02\n",
            "   1.58321640e-01  1.84003858e-01 -3.30457045e-01  6.96662386e-02\n",
            "  -1.94746711e-01 -8.54891525e-03  8.52248466e-02  1.88801200e-01\n",
            "   7.23367999e-01]\n",
            " [ 2.02425335e-01  2.09106111e-01 -4.64652785e-01 -4.00988552e-02\n",
            "   6.25871049e-01 -2.39240838e-01 -7.40747316e-03 -2.98764404e-01\n",
            "   2.51740236e-01  1.17758589e-01 -1.33943721e-01 -2.52826009e-01\n",
            "   2.05075018e-02]\n",
            " [-2.09869056e-01 -3.04390658e-01 -2.55932625e-01 -9.85194483e-02\n",
            "   3.10319770e-01  8.18816215e-01 -1.16104397e-02 -3.95234210e-03\n",
            "  -7.32937888e-02 -1.07709072e-01  8.17435970e-03 -6.36636394e-02\n",
            "  -9.58308943e-03]\n",
            " [ 3.06538450e-01 -2.18555644e-03 -2.43219997e-01  2.65021986e-01\n",
            "  -3.35111015e-01  6.04370549e-02  1.05656103e-01 -4.76856024e-01\n",
            "  -2.47542813e-01 -5.60014854e-01 -2.01639055e-01 -7.59486354e-02\n",
            "   2.84479714e-02]]\n",
            "[0.47464121 0.10906165 0.09389957 0.06923228 0.06151382 0.04890973\n",
            " 0.04211779 0.03079899 0.02194403 0.01710126 0.01380923 0.01246562\n",
            " 0.00450483]\n"
          ]
        }
      ]
    },
    {
      "cell_type": "code",
      "source": [
        "PC = ['PC1', 'PC2', 'PC3', 'PC4', 'PC5', 'PC6', 'PC7', 'PC8', 'PC9', 'PC10', 'PC11', 'PC12', 'PC13']\n",
        "plt.bar(PC,pca.explained_variance_ratio_)\n",
        "plt.xlabel('Principle Components')\n",
        "plt.ylabel('% Retained Variance')\n",
        "plt.show()\n",
        "print(pca.explained_variance_ratio_)"
      ],
      "metadata": {
        "colab": {
          "base_uri": "https://localhost:8080/",
          "height": 501
        },
        "id": "s9Fxzv59MBau",
        "outputId": "a44676b2-3f00-4377-8bbb-069acdd1a2cd"
      },
      "execution_count": null,
      "outputs": [
        {
          "output_type": "display_data",
          "data": {
            "text/plain": [
              "<Figure size 640x480 with 1 Axes>"
            ],
            "image/png": "[encoded data removed]"
          },
          "metadata": {}
        },
        {
          "output_type": "stream",
          "name": "stdout",
          "text": [
            "[0.47464121 0.10906165 0.09389957 0.06923228 0.06151382 0.04890973\n",
            " 0.04211779 0.03079899 0.02194403 0.01710126 0.01380923 0.01246562\n",
            " 0.00450483]\n"
          ]
        }
      ]
    },
    {
      "cell_type": "code",
      "source": [
        "n_comp = np.arange(13)\n",
        "n_comp = n_comp+1\n",
        "cumulative = np.cumsum(pca.explained_variance_ratio_)\n",
        "from matplotlib.pyplot import figure, show\n",
        "from matplotlib.ticker import MaxNLocator\n",
        "ax = figure().gca()\n",
        "ax.plot(n_comp, cumulative)\n",
        "ax.xaxis.set_major_locator(MaxNLocator(integer=True))\n",
        "plt.xlabel('Principle Components')\n",
        "plt.ylabel('Cumulative % of Retained Variance')\n",
        "show()"
      ],
      "metadata": {
        "colab": {
          "base_uri": "https://localhost:8080/",
          "height": 449
        },
        "id": "l84ekAmLM_Le",
        "outputId": "aef145b9-f3e1-43d7-8c38-a5e53344034b"
      },
      "execution_count": null,
      "outputs": [
        {
          "output_type": "display_data",
          "data": {
            "text/plain": [
              "<Figure size 640x480 with 1 Axes>"
            ],
            "image/png": "[encoded data removed]"
          },
          "metadata": {}
        }
      ]
    },
    {
      "cell_type": "markdown",
      "source": [
        "(a): 5 components "
      ],
      "metadata": {
        "id": "D3C0ULYHQfV-"
      }
    },
    {
      "cell_type": "markdown",
      "source": [
        "(b): 7 components"
      ],
      "metadata": {
        "id": "TebbB9uCQ7cI"
      }
    },
    {
      "cell_type": "markdown",
      "source": [
        "# Use Your Model"
      ],
      "metadata": {
        "id": "XUGbioM9RCLS"
      }
    },
    {
      "cell_type": "code",
      "source": [
        "pca2 = PCA(2)\n",
        "pca2.fit(train_features)\n",
        "X_P2 = pca2.transform(train_features)\n",
        "print(X_P2.shape)"
      ],
      "metadata": {
        "colab": {
          "base_uri": "https://localhost:8080/"
        },
        "id": "d8O7g9_7RLE3",
        "outputId": "ca1f8d00-e0c5-4c18-9584-e921d69c198f"
      },
      "execution_count": null,
      "outputs": [
        {
          "output_type": "stream",
          "name": "stdout",
          "text": [
            "(404, 2)\n"
          ]
        }
      ]
    },
    {
      "cell_type": "code",
      "source": [
        "print(pca2.explained_variance_ratio_)"
      ],
      "metadata": {
        "colab": {
          "base_uri": "https://localhost:8080/"
        },
        "id": "ZmbaAneAUIQf",
        "outputId": "ed09badc-df6a-4191-8cab-57d478032fa3"
      },
      "execution_count": null,
      "outputs": [
        {
          "output_type": "stream",
          "name": "stdout",
          "text": [
            "[0.47464121 0.10906165]\n"
          ]
        }
      ]
    },
    {
      "cell_type": "markdown",
      "source": [
        "58.37% Variance has been retained"
      ],
      "metadata": {
        "id": "uYXYXkbSUN-2"
      }
    }
  ]
}